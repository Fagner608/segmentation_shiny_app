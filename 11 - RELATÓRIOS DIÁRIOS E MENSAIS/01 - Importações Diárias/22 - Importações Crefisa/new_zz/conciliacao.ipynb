{
 "cells": [
  {
   "cell_type": "code",
   "execution_count": 19,
   "metadata": {},
   "outputs": [],
   "source": [
    "import pandas as pd\n",
    "import datetime\n",
    "import os\n",
    "import re"
   ]
  },
  {
   "cell_type": "code",
   "execution_count": 2,
   "metadata": {},
   "outputs": [],
   "source": [
    "date_work = datetime.date.today()"
   ]
  },
  {
   "cell_type": "code",
   "execution_count": 3,
   "metadata": {},
   "outputs": [],
   "source": [
    "# carregando planilha de pagamentos consolidada\n",
    "# path_to_read = f\"../Comissão/{date_work.year}/{'{:02d}'.format(date_work.month)}-{date_work.year}/\"\n",
    "files  = os.listdir(path_to_read)\n",
    "consolidate_comission = pd.DataFrame()\n",
    "for file in files:\n",
    "    consolidate_comission = pd.concat([consolidate_comission, pd.read_excel(path_to_read + file, sheet_name=1, header=0)])"
   ]
  },
  {
   "cell_type": "code",
   "execution_count": 20,
   "metadata": {},
   "outputs": [],
   "source": [
    "# carregar as comissões dos últimos 60 dias\n",
    "current_monh = date_work.month\n",
    "last_month = current_monh -  1\n",
    "months = [current_monh, last_month]\n",
    "reports_antecipated = pd.DataFrame()\n",
    "for month in months:\n",
    "    path_to_read_tables = f\"../Importados Storm/02 - COMISSÃO/{date_work.year}/{month}-{date_work.year}/\"\n",
    "    for file in os.listdir(path_to_read_tables):\n",
    "        if not re.search(r'Copia|Cópia|copia|cópia', file):\n",
    "            new_data = pd.read_csv(path_to_read_tables + file, sep  =';')\n",
    "            new_data['meta_data'] = file\n",
    "            reports_antecipated = pd.concat([reports_antecipated, new_data])\n",
    "\n",
    "\n",
    "reports_antecipated.drop_duplicates(inplace=True)\n",
    "reports_antecipated[reports_antecipated['#ADE#'].duplicated(keep=False)].sort_values('#ADE#')\n",
    "reports_antecipated[reports_antecipated['#ADE#'].isin(consolidate_comission['Nº PROP/ADE'])]\n",
    "consolidate_comission[~consolidate_comission['Nº PROP/ADE'].isin(reports_antecipated['#ADE#'])]"
   ]
  },
  {
   "cell_type": "code",
   "execution_count": 38,
   "metadata": {},
   "outputs": [],
   "source": [
    "# classe para conciliar contratos\n",
    "class conciliation_contracts():\n",
    "\n",
    "    def __init__(self, date_work: datetime.date):\n",
    "        self.date_work = date_work\n",
    "        self.path_to_read = f\"../Comissão/{date_work.year}/{'{:02d}'.format(date_work.month)}-{date_work.year}/\"\n",
    "        self.conciliation()\n",
    "\n",
    "\n",
    "\n",
    "    # metodo para ler arquivo de comissao consolidada\n",
    "    def __read_consolidate_comission(self):\n",
    "        files  = os.listdir(self.path_to_read)\n",
    "        consolidate_comission = pd.DataFrame()\n",
    "        for file in files:\n",
    "            consolidate_comission = pd.concat([consolidate_comission, pd.read_excel(self.path_to_read + file, sheet_name=1, header=0)])\n",
    "        return consolidate_comission\n",
    "\n",
    "\n",
    "    # metdo para ler arquivos de pagamentos antecipados\n",
    "    def __read_comission_antecipated(self):\n",
    "        current_monh = date_work.month\n",
    "        last_month = current_monh -  1\n",
    "        months = [current_monh, last_month]\n",
    "        reports_antecipated = pd.DataFrame()\n",
    "        for month in months:\n",
    "            path_to_read_tables = f\"../Importados Storm/02 - COMISSÃO/{date_work.year}/{month}-{date_work.year}/\"\n",
    "            for file in os.listdir(path_to_read_tables):\n",
    "                if not re.search(r'Copia|Cópia|copia|cópia', file):\n",
    "                    new_data = pd.read_csv(path_to_read_tables + file, sep  =';')\n",
    "                    new_data['meta_data'] = file\n",
    "                    reports_antecipated = pd.concat([reports_antecipated, new_data])\n",
    "        return reports_antecipated\n",
    "\n",
    "    # metodo para conferir comissoes\n",
    "    def conciliation(self):\n",
    "        path_to_save_no_paymet_comission = f'../Comissoes_nao_pagas/{self.date_work.year}/{self.date_work.month}/'\n",
    "        os.makedirs(path_to_save_no_paymet_comission, exist_ok=True)\n",
    "        consolidate = self.__read_consolidate_comission()\n",
    "        antecipated = self.__read_comission_antecipated()\n",
    "        if not consolidate.empty and not antecipated.empty:\n",
    "            antecipated.drop_duplicates(inplace=True)\n",
    "            antecipated[antecipated['#ADE#'].duplicated(keep=False)].sort_values('#ADE#')\n",
    "            antecipated[antecipated['#ADE#'].isin(consolidate['Nº PROP/ADE'])]\n",
    "            not_payment_comission = consolidate[~consolidate['Nº PROP/ADE'].isin(antecipated['#ADE#'])]\n",
    "            if not not_payment_comission.empty:\n",
    "                print(\"Foram encontradas comissões não pagas!\")\n",
    "                not_payment_comission.to_csv(path_to_save_no_paymet_comission + f'comissoes_nao_pagas_{self.date_work}')\n",
    "            else: print(\"Todas as comissões foram pagas!\")\n",
    "        else: print(\"Arquivos de comissão consolidada ou comissões antecipadas não foram lidos. Verifique se o arquivo está vazio, e se foram carregados corretamente neste procedimento.\")"
   ]
  },
  {
   "cell_type": "code",
   "execution_count": null,
   "metadata": {},
   "outputs": [],
   "source": []
  },
  {
   "cell_type": "code",
   "execution_count": 39,
   "metadata": {},
   "outputs": [
    {
     "name": "stdout",
     "output_type": "stream",
     "text": [
      "Todas as comissões foram pagas!\n"
     ]
    },
    {
     "data": {
      "text/plain": [
       "<__main__.conciliation_contracts at 0x2299f9b74d0>"
      ]
     },
     "execution_count": 39,
     "metadata": {},
     "output_type": "execute_result"
    }
   ],
   "source": [
    "conciliation_contracts(date_work=datetime.date.today())"
   ]
  }
 ],
 "metadata": {
  "kernelspec": {
   "display_name": "Python 3",
   "language": "python",
   "name": "python3"
  },
  "language_info": {
   "codemirror_mode": {
    "name": "ipython",
    "version": 3
   },
   "file_extension": ".py",
   "mimetype": "text/x-python",
   "name": "python",
   "nbconvert_exporter": "python",
   "pygments_lexer": "ipython3",
   "version": "3.11.4"
  }
 },
 "nbformat": 4,
 "nbformat_minor": 2
}
