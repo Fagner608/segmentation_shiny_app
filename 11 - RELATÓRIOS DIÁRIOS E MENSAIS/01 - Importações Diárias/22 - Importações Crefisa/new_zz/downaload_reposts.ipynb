{
 "cells": [
  {
   "cell_type": "code",
   "execution_count": 1,
   "metadata": {},
   "outputs": [],
   "source": [
    "from dotenv import dotenv_values\n",
    "from selenium import webdriver\n",
    "from selenium.webdriver.firefox.webdriver import WebDriver\n",
    "from selenium.webdriver.firefox.service import Service\n",
    "from selenium.webdriver.firefox.options import Options\n",
    "from selenium.webdriver.common.by import By\n",
    "from selenium.webdriver.support import expected_conditions as EC\n",
    "from selenium.webdriver.support.wait import WebDriverWait\n",
    "from selenium.common.exceptions import *\n",
    "from selenium.webdriver import Keys, ActionChains\n",
    "from shutil import move\n",
    "import os\n",
    "from pathlib import Path\n",
    "import datetime\n",
    "import time"
   ]
  },
  {
   "cell_type": "code",
   "execution_count": 2,
   "metadata": {},
   "outputs": [],
   "source": [
    "\n",
    "class openBrowserCrefisa():\n",
    "    \n",
    "    # def __init__(self, user_credencials: dict = dotenv_values(\"./data/.env\")) -> WebDriver:\n",
    "    def __init__(self, user_credencials: dict = dotenv_values(\"./data/.env\")) -> WebDriver:\n",
    "        self.user_credencials_login = user_credencials['LOGIN_USER']\n",
    "        self.user_credencials_password = user_credencials['LOGIN_PASSWORD']\n",
    "        self.mkDirDownload = self.__mkDirDownload()\n",
    "        \n",
    "        \n",
    "        \n",
    "    \n",
    "    def __mkDirDownload(self) -> None:\n",
    "        os.makedirs(\"download\", exist_ok=True)\n",
    "        for file in os.listdir('download'):\n",
    "            os.remove(f\"download\\\\{file}\")\n",
    "            \n",
    "    def __initialize_driver(self):\n",
    "        \n",
    "        options = Options()\n",
    "        options.binary_location = r\"C:\\Program Files\\Mozilla Firefox\\firefox.exe\"\n",
    "        # options.add_argument('-headless')\n",
    "        options.set_preference(\"browser.download.folderList\", 2)\n",
    "        options.set_preference(\"browser.download.manager.showWhenStarting\", False)\n",
    "        options.set_preference(\"browser.download.dir\", fr\"{str(Path().absolute())}\\\\download\")\n",
    "        options.set_preference(\"browser.helperApps.neverAsk.saveToDisk\", \"application/x-gzip\")\n",
    "        driver = webdriver.Firefox(options=options)\n",
    "        driver.maximize_window()\n",
    "        return driver\n",
    "    \n",
    "    def loguinSendKeys(self):\n",
    "        driver = self.__initialize_driver()\n",
    "        driver.get('https://app1.gerencialcredito.com.br/CREFISA/')\n",
    "        WebDriverWait(driver, 20).until(EC.visibility_of_element_located((By.CSS_SELECTOR, '#txtUsuario'))).send_keys(self.user_credencials_login)\n",
    "        time.sleep(1)\n",
    "        WebDriverWait(driver, 20).until(EC.visibility_of_element_located((By.CSS_SELECTOR, '#txtSenha'))).send_keys(self.user_credencials_password)\n",
    "        time.sleep(1)\n",
    "        WebDriverWait(driver, 20).until(EC.visibility_of_element_located((By.CSS_SELECTOR, '#btnLogin'))).click()\n",
    "        return driver\n",
    "        \n",
    "\n",
    "    \n"
   ]
  },
  {
   "cell_type": "code",
   "execution_count": 3,
   "metadata": {},
   "outputs": [],
   "source": [
    "class get_tables():\n",
    "\n",
    "\n",
    "    def __init__(self, driver: WebDriver, date: datetime.date, user_credencials= dotenv_values(\"./data/.env\")):\n",
    "        self.driver = driver\n",
    "        self.user_autentiction = user_credencials['USER_AUTHENTICATION']\n",
    "        self.date = date\n",
    "        \n",
    "\n",
    "\n",
    "    def __move_file(self, date: datetime.date):\n",
    "        path_download = f\"./download/\"\n",
    "        path_to_move = f'./relatorios/{date.year}/{date.month}'\n",
    "        os.makedirs(path_to_move, exist_ok = True)\n",
    "        if os.path.exists(path_download):\n",
    "            while os.listdir(path_download) == 0:\n",
    "                continue\n",
    "            time.sleep(2)\n",
    "            move(path_download + os.listdir(path_download)[0], path_to_move + f\"/relatorio_{date.day}_{date.month}_{date.year}.xls\")\n",
    "\n",
    "\n",
    "    def download(self):\n",
    "        date_work = self.date\n",
    "        while date_work  < datetime.date.today():\n",
    "\n",
    "\n",
    "            WebDriverWait(self.driver, 20).until(EC.visibility_of_element_located((By.CSS_SELECTOR, '#menu4'))).click()\n",
    "            \n",
    "            \n",
    "            WebDriverWait(self.driver, 20).until(EC.visibility_of_element_located((By.CSS_SELECTOR, '#listaMenu4 > li:nth-child(2) > a:nth-child(1)'))).click()\n",
    "\n",
    "            try:\n",
    "                WebDriverWait(self.driver, 20).until(EC.visibility_of_element_located((By.CSS_SELECTOR, '#txtAutenticacaoSenhaFinanceira'))).send_keys(self.user_autentiction)\n",
    "                WebDriverWait(self.driver, 20).until(EC.visibility_of_element_located((By.CSS_SELECTOR, 'button.btn:nth-child(2)'))).click()\n",
    "                WebDriverWait(self.driver, 20).until(EC.visibility_of_element_located((By.CSS_SELECTOR, '.swal2-confirm'))).click()\n",
    "            except TimeoutException:\n",
    "                pass            \n",
    "            WebDriverWait(self.driver, 20).until(EC.visibility_of_element_located((By.CSS_SELECTOR, '#txtDataInicial'))).clear()\n",
    "            WebDriverWait(self.driver, 20).until(EC.visibility_of_element_located((By.CSS_SELECTOR, '#txtDataInicial'))).click()\n",
    "            WebDriverWait(self.driver, 20).until(EC.visibility_of_element_located((By.CSS_SELECTOR, '#txtDataInicial'))).send_keys(date_work.strftime(\"%d/%m/%Y\"))\n",
    "            WebDriverWait(self.driver, 20).until(EC.visibility_of_element_located((By.CSS_SELECTOR, '#txtDataFinal'))).clear()\n",
    "            WebDriverWait(self.driver, 20).until(EC.visibility_of_element_located((By.CSS_SELECTOR, '#txtDataFinal'))).click()\n",
    "            WebDriverWait(self.driver, 20).until(EC.visibility_of_element_located((By.CSS_SELECTOR, '#txtDataFinal'))).send_keys(date_work.strftime(\"%d/%m/%Y\"))\n",
    "            WebDriverWait(self.driver, 20).until(EC.visibility_of_element_located((By.CSS_SELECTOR, '#ddlTipoResultado'))).click()\n",
    "\n",
    "            WebDriverWait(self.driver, 20).until(EC.visibility_of_element_located((By.CSS_SELECTOR, '#ddlTipoDeData > option:nth-child(2)'))).click()\n",
    "            WebDriverWait(self.driver, 20).until(EC.visibility_of_element_located((By.CSS_SELECTOR, '#ddlTipoDeData > option:nth-child(2)'))).click()\n",
    "\n",
    "            WebDriverWait(self.driver, 20).until(EC.visibility_of_element_located((By.CSS_SELECTOR, '#ddlStatusPagCliente > option:nth-child(3)'))).click()\n",
    "            WebDriverWait(self.driver, 20).until(EC.visibility_of_element_located((By.CSS_SELECTOR, '#ddlStatusPagCliente > option:nth-child(3)'))).click()\n",
    "            WebDriverWait(self.driver, 20).until(EC.visibility_of_element_located((By.CSS_SELECTOR, '#ddlTipoResultado > option:nth-child(1)'))).click()\n",
    "            WebDriverWait(self.driver, 20).until(EC.visibility_of_element_located((By.CSS_SELECTOR, '#ddlTipoResultado > option:nth-child(1)'))).click()\n",
    "            WebDriverWait(self.driver, 20).until(EC.visibility_of_element_located((By.CSS_SELECTOR, '#btn'))).click()\n",
    "            \n",
    "            try:\n",
    "                allert = self.driver.switch_to.alert\n",
    "                self.driver_alert = allert.text\n",
    "\n",
    "                if self.driver_alert == 'NENHUM RESULTADO FOI ENCONTRADO.':\n",
    "                    print(\"Sem dados para: \", date_work)\n",
    "                    allert.dismiss()\n",
    "                    date_work = date_work + datetime.timedelta(days = 1)\n",
    "                    continue\n",
    "\n",
    "                else:\n",
    "                    allert = self.driver.switch_to.alert\n",
    "                    allert.accept()\n",
    "                    p = self.driver.current_window_handle\n",
    "                    chwd = self.driver.window_handles\n",
    "                    for w in chwd:\n",
    "\n",
    "                        if(w!=p):\n",
    "                            self.driver.switch_to.window(w)\n",
    "                            break\n",
    "\n",
    "            except NoAlertPresentException:\n",
    "                pass\n",
    "\n",
    "            self.__move_file(date =date_work)\n",
    "            date_work\n",
    "            date_work = date_work + datetime.timedelta(days = 1)\n",
    "\n",
    "        self.driver.quit()\n",
    "        \n"
   ]
  },
  {
   "cell_type": "code",
   "execution_count": 4,
   "metadata": {},
   "outputs": [
    {
     "name": "stdout",
     "output_type": "stream",
     "text": [
      "Sem dados para:  2024-03-23\n",
      "Sem dados para:  2024-03-24\n"
     ]
    }
   ],
   "source": [
    "\n",
    "teste  = get_tables(driver = openBrowserCrefisa().loguinSendKeys(), date = datetime.date(2024, 3, 21)).download()"
   ]
  },
  {
   "cell_type": "code",
   "execution_count": 10,
   "metadata": {},
   "outputs": [],
   "source": [
    "dados = dotenv_values(\"./data/.env\")"
   ]
  },
  {
   "cell_type": "code",
   "execution_count": 11,
   "metadata": {},
   "outputs": [
    {
     "data": {
      "text/plain": [
       "OrderedDict([('LOGIN_USER', '11851164600'),\n",
       "             ('LOGIN_PASSWORD', 'vA4g4Gqw1a'),\n",
       "             ('USER_AUTHENTICATION', '1010')])"
      ]
     },
     "execution_count": 11,
     "metadata": {},
     "output_type": "execute_result"
    }
   ],
   "source": [
    "dados"
   ]
  },
  {
   "cell_type": "code",
   "execution_count": 20,
   "metadata": {},
   "outputs": [],
   "source": [
    "WebDriverWait(teste, 20).until(EC.visibility_of_element_located((By.CSS_SELECTOR, '.swal2-confirm'))).click()\n",
    "WebDriverWait(teste, 20).until(EC.visibility_of_element_located((By.CSS_SELECTOR, '#txtDataInicial'))).click()\n",
    "WebDriverWait(teste, 20).until(EC.visibility_of_element_located((By.CSS_SELECTOR, '#txtDataInicial'))).send_keys(\"01/03/2024\")\n",
    "WebDriverWait(teste, 20).until(EC.visibility_of_element_located((By.CSS_SELECTOR, '#txtDataFinal'))).click()\n",
    "WebDriverWait(teste, 20).until(EC.visibility_of_element_located((By.CSS_SELECTOR, '#txtDataFinal'))).send_keys(\"02/03/2024\")\n",
    "WebDriverWait(teste, 20).until(EC.visibility_of_element_located((By.CSS_SELECTOR, '#ddlTipoResultado'))).click()\n",
    "WebDriverWait(teste, 20).until(EC.visibility_of_element_located((By.CSS_SELECTOR, '#ddlTipoResultado > option:nth-child(1)'))).click()\n",
    "WebDriverWait(teste, 20).until(EC.visibility_of_element_located((By.CSS_SELECTOR, '#ddlTipoResultado > option:nth-child(1)'))).click()\n",
    "WebDriverWait(teste, 20).until(EC.visibility_of_element_located((By.CSS_SELECTOR, '#btn'))).click()\n",
    "\n"
   ]
  },
  {
   "cell_type": "code",
   "execution_count": 3,
   "metadata": {},
   "outputs": [
    {
     "ename": "NameError",
     "evalue": "name 'teste' is not defined",
     "output_type": "error",
     "traceback": [
      "\u001b[1;31m---------------------------------------------------------------------------\u001b[0m",
      "\u001b[1;31mNameError\u001b[0m                                 Traceback (most recent call last)",
      "Cell \u001b[1;32mIn[3], line 2\u001b[0m\n\u001b[0;32m      1\u001b[0m \u001b[38;5;28;01mimport\u001b[39;00m \u001b[38;5;21;01mpandas\u001b[39;00m \u001b[38;5;28;01mas\u001b[39;00m \u001b[38;5;21;01mpd\u001b[39;00m\n\u001b[1;32m----> 2\u001b[0m pd\u001b[38;5;241m.\u001b[39mDataFrame(\u001b[43mteste\u001b[49m)\n",
      "\u001b[1;31mNameError\u001b[0m: name 'teste' is not defined"
     ]
    }
   ],
   "source": [
    "import pandas as pd"
   ]
  },
  {
   "cell_type": "code",
   "execution_count": 4,
   "metadata": {},
   "outputs": [],
   "source": []
  },
  {
   "cell_type": "code",
   "execution_count": 8,
   "metadata": {},
   "outputs": [],
   "source": [
    "teste_df = pd.DataFrame(teste[0])"
   ]
  },
  {
   "cell_type": "code",
   "execution_count": 10,
   "metadata": {},
   "outputs": [
    {
     "data": {
      "text/plain": [
       "Index(['FILIAL', 'GRUPO_VENDEDOR', 'COD_VENDEDOR', 'VENDEDOR', 'CONTRATO_ID',\n",
       "       'NUMERO_ADE', 'NUMERO_CONTRATO', 'PRAZO', 'VLR_PARC', 'VALOR_BRUTO',\n",
       "       'VALOR_LIQUIDO', 'VALOR_BASE', 'PERC_COMISSAO_REPASSE',\n",
       "       'VLR_COMISSAO_REPASSE', 'CLIENTE', 'CPF', 'SIT_BANCO',\n",
       "       'SIT_PAGAMENTO_CLIENTE', 'DATA_DIGIT_BANCO', 'DATA_PAGAMENTO_CLIENTE',\n",
       "       'BANCO', 'CONVENIO', 'TABELA', 'USUARIO_DIGIT_BANCO',\n",
       "       'USUARIO_DIGIT_BANCO_SUBESTABELECIDO', 'SUB_USUARIO',\n",
       "       'LOGIN_SUB_USUARIO', 'SITUACAO_PENDENCIA', 'TIPO CONTRATO',\n",
       "       'CODIGO_PRODUTO', 'CODIGO_CONVENIO', 'FISICO_EMPRESA',\n",
       "       'DATA_FISICO_EMPRESA', 'USUÁRIO_FISICO_EMPRESA',\n",
       "       'SIT_PAGAMENTO_COMISSAO', 'DATA_PAGAMENTO_COMISSAO', 'SUB_STATUS',\n",
       "       'DATA_SUB_STATUS', 'PERC_BONUS_REPASSE', 'VLR_BONUS_REPASSE'],\n",
       "      dtype='object')"
      ]
     },
     "execution_count": 10,
     "metadata": {},
     "output_type": "execute_result"
    }
   ],
   "source": []
  }
 ],
 "metadata": {
  "kernelspec": {
   "display_name": "Python 3",
   "language": "python",
   "name": "python3"
  },
  "language_info": {
   "codemirror_mode": {
    "name": "ipython",
    "version": 3
   },
   "file_extension": ".py",
   "mimetype": "text/x-python",
   "name": "python",
   "nbconvert_exporter": "python",
   "pygments_lexer": "ipython3",
   "version": "3.11.4"
  }
 },
 "nbformat": 4,
 "nbformat_minor": 2
}
