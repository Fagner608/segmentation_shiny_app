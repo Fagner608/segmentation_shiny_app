{
 "cells": [
  {
   "cell_type": "code",
   "execution_count": 1,
   "metadata": {},
   "outputs": [],
   "source": [
    "from modules.modules import openBrowserCrefisa, get_tables, work_tables\n",
    "import datetime\n",
    "import os\n",
    "import pandas as pd"
   ]
  },
  {
   "cell_type": "code",
   "execution_count": 18,
   "metadata": {},
   "outputs": [],
   "source": [
    "# classe para conferir a quantidade de contratos da mesma data\n",
    "class contracts_conference():\n",
    "\n",
    "    def __init__(self, date_work = datetime.date):\n",
    "        self.process = False\n",
    "        self.date= date_work \n",
    "        self.load_new_table()\n",
    "        self.load_table()\n",
    "        \n",
    "        \n",
    "    # Carrega os novos relatórios\n",
    "    def load_new_table(self):\n",
    "        path_new_reports =  f\"./relatorios_novos/{self.date.year}/{self.date.month}\"\n",
    "        path_to_read = path_new_reports + f\"/relatorio_pagamentos{self.date.day}_{self.date.month}_{self.date.year}.xls\" \n",
    "        os.makedirs(path_new_reports, exist_ok = True)\n",
    "        if os.path.exists(path_to_read):\n",
    "            dados = pd.read_html(path_to_read, header = 0, thousands='.')\n",
    "            dados_lidos = pd.DataFrame(dados[0])\n",
    "            self.process = True\n",
    "            setattr(self, 'dados_novos', dados_lidos)\n",
    "    \n",
    "    # Carrega os relatórios usados no storm\n",
    "    \n",
    "    def load_table(self):\n",
    "        path_new_reports =  f\"./relatorios/{self.date.year}/{self.date.month}\"\n",
    "        path_to_read = path_new_reports + f\"/relatorio_{self.date.day}_{self.date.month}_{self.date.year}.xls\" \n",
    "        if self.process:\n",
    "            if os.path.exists(path_to_read):\n",
    "                dados = pd.read_html(path_to_read, header = 0, thousands='.')\n",
    "                dados_lidos = pd.DataFrame(dados[0])\n",
    "                setattr(self, 'dados', dados_lidos)\n",
    "\n",
    "\n",
    "    # Verifica se são as mesmas propostas\n",
    "    def retorna_dimensao(self):\n",
    "        path_to_save = f'../Pagamentos_atrasados/{self.date.year}/{self.date.month}'\n",
    "        save_date = datetime.date.today() - datetime.timedelta(days = 1)\n",
    "        path_to_save_file = path_to_save + f\"/pagamento_atrasado_{save_date}.csv\"\n",
    "        os.makedirs(path_to_save, exist_ok = True)\n",
    "        if self.process:\n",
    "            dados_novos = getattr(self, 'dados_novos')\n",
    "            dados = getattr(self, 'dados')\n",
    "            propostas_novas = dados_novos.NUMERO_ADE.map(lambda x: x.replace(\"'\", \"\"))\n",
    "            propostas = dados.NUMERO_ADE.map(lambda x: x.replace(\"'\", \"\"))\n",
    "            result = list(set(propostas_novas) - set(propostas))\n",
    "            dados_novos['NUMERO_ADE'] = dados_novos['NUMERO_ADE'].map(lambda x: x.replace(\"'\", \"\"))\n",
    "            filtrados = dados_novos[dados_novos['NUMERO_ADE'].isin(result)]\n",
    "            print(\"Propostas pagas em atraso foram encontradas!\")\n",
    "            if os.path.exists(path_to_save_file):\n",
    "                filtrados = pd.concat([filtrados, pd.read_csv(path_to_save_file)])\n",
    "            filtrados.to_csv(path_to_save_file, index = False)\n",
    "\n",
    "# lendo_dados = contracts_conference(date_work = datetime.date(2024, 3, 25)).retorna_dimensao()\n",
    "    "
   ]
  },
  {
   "cell_type": "code",
   "execution_count": 19,
   "metadata": {},
   "outputs": [
    {
     "name": "stdout",
     "output_type": "stream",
     "text": [
      "Propostas pagas em atraso foram encontradas!\n"
     ]
    }
   ],
   "source": [
    "lendo_dados = contracts_conference(date_work = datetime.date(2024, 4, 2)).retorna_dimensao()"
   ]
  },
  {
   "cell_type": "code",
   "execution_count": null,
   "metadata": {},
   "outputs": [],
   "source": []
  }
 ],
 "metadata": {
  "kernelspec": {
   "display_name": "Python 3",
   "language": "python",
   "name": "python3"
  },
  "language_info": {
   "codemirror_mode": {
    "name": "ipython",
    "version": 3
   },
   "file_extension": ".py",
   "mimetype": "text/x-python",
   "name": "python",
   "nbconvert_exporter": "python",
   "pygments_lexer": "ipython3",
   "version": "3.11.4"
  }
 },
 "nbformat": 4,
 "nbformat_minor": 2
}
