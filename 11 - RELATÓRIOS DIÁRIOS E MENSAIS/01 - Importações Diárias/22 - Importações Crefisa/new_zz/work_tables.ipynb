{
 "cells": [
  {
   "cell_type": "code",
   "execution_count": 1,
   "metadata": {},
   "outputs": [],
   "source": [
    "import pandas as pd\n",
    "import datetime\n",
    "import os\n",
    "import json\n",
    "import warnings\n",
    "import sys\n",
    "warnings.filterwarnings(\"ignore\")"
   ]
  },
  {
   "cell_type": "code",
   "execution_count": 2,
   "metadata": {},
   "outputs": [],
   "source": [
    "class work_tables():\n",
    "\n",
    "    def __init__(self, data: datetime.date):\n",
    "        self.process = False\n",
    "        self.date = data\n",
    "        self.load_table()\n",
    "        self.production_to_storm()\n",
    "        self.comission_to_storm()\n",
    "        self.zz()\n",
    "\n",
    "\n",
    "\n",
    "    def load_json(self):\n",
    "        \n",
    "        with open(\"./data/production_code.json\", mode ='r', encoding = 'utf-8') as fp:\n",
    "            json_data = json.load(fp)\n",
    "            return json_data\n",
    "\n",
    "    def load_table(self):\n",
    "        path_to_read = f\"./relatorios/{self.date.year}/{self.date.month}/relatorio_{self.date.day}_{self.date.month}_{self.date.year}.xls\" \n",
    "        if os.path.exists(path_to_read):\n",
    "            dados = pd.read_html(path_to_read, header = 0, thousands='.')\n",
    "            dados_lidos = pd.DataFrame(dados[0])\n",
    "            self.process = True\n",
    "            setattr(self, 'dados', dados_lidos)\n",
    "\n",
    "\n",
    "    def production_to_storm(self):\n",
    "        columns_to_rename = ['PROPOSTA',\t\n",
    "                              'DATA CADASTRO',\t\n",
    "                              'BANCO',\t\n",
    "                              'ORGAO',\t\n",
    "                              'CODIGO TABELA',\t\n",
    "                              'TIPO DE OPERACAO',\t\n",
    "                              'NUMERO PARCELAS',\t\n",
    "                              'VALOR PARCELAS',\t\n",
    "                              'VALOR OPERACAO',\t\n",
    "                              'USUARIO BANCO',\n",
    "                              'SITUACAO',\t\n",
    "                              'DATA DE PAGAMENTO',\n",
    "                              'CPF',\t\n",
    "                              'NOME',\t\n",
    "                              'FORMALIZACA DIGITAL']\n",
    "        \n",
    "        columns_to_filter = ['NUMERO_ADE',\n",
    "                            'DATA_DIGIT_BANCO',\n",
    "                            'PRAZO',\t\n",
    "                            'VLR_PARC',\t\n",
    "                            'VALOR_BRUTO',\t\n",
    "                            'LOGIN_SUB_USUARIO',\n",
    "                            'DATA_SUB_STATUS',\n",
    "                            'CPF',\n",
    "                            'CLIENTE']\n",
    "        path_to_save = f'../Importados Storm/01 - PRODUÇÃO/{self.date.year}/{self.date.month}-{self.date.year}'\n",
    "        os.makedirs(path_to_save, exist_ok = True)\n",
    "        if self.process:\n",
    "            dados = getattr(self, 'dados')\n",
    "            dados_storm = dados[columns_to_filter]\n",
    "            dados_storm.insert(2, 'BANCO', 'BANCO CREFISA')\n",
    "            dados_storm.insert(3, 'ORGAO', '')\n",
    "            dados_storm.insert(4, 'CODIGO TABELA', '')\n",
    "            dados_storm.insert(5, 'TABELA', '')\n",
    "            dados_storm.insert(10, 'SITUACAO', 'PAGO')\n",
    "            dados_storm.insert(14, 'FORMALIZACAO DIGITAL', 'SIM')\n",
    "            dados_storm.columns = columns_to_rename\n",
    "            dados_storm['PROPOSTA'] = dados_storm['PROPOSTA'].apply(lambda x: x[1:])\n",
    "            dados_storm['USUARIO BANCO'] = dados_storm['USUARIO BANCO'].apply(lambda x: x[1:])\n",
    "            dados_storm['CODIGO TABELA'] = dados['CONVENIO'].map(self.load_json()['tables_code'])\n",
    "            dados_storm['ORGAO'] = dados['CONVENIO'].map(self.load_json()['Orgao_code'])\n",
    "            dados_storm['TIPO DE OPERACAO'] = dados['TABELA'].map(self.load_json()['Operations_code'])\n",
    "            dados_storm.to_csv(path_to_save + f\"/PRODUÇÃO CREFISA {self.date.day}-{self.date.month}-{self.date.year}_teste_fagner_NAO_USAR.csv\", sep = ';', index = False) \n",
    "\n",
    "    def comission_to_storm(self):\n",
    "            columns_to_filter = [\"NUMERO_ADE\",\n",
    "                                 'VALOR_BRUTO',\n",
    "                                 'VLR_COMISSAO_REPASSE',\n",
    "                                 'VLR_BONUS_REPASSE',\n",
    "                                 'PRAZO',\n",
    "                                 'DATA_DIGIT_BANCO'\n",
    "\n",
    "                                 ]\n",
    "            columns_to_rename = ['#ADE#',\t\n",
    "                                '#VALOR_BASE#',\n",
    "                                '#VALOR_CMS#',\n",
    "                                '#VALOR_BONUS#',\t\n",
    "                                '#PRAZO#',\n",
    "                                '#DATA_DIGITACAO#',\t\n",
    "                                '#CODIGO_TABELA#',\t\n",
    "                                '#VALOR_BASE_BRUTO#']\n",
    "            path_to_save = f'../Importados Storm/02 - COMISSÃO/{self.date.year}/{self.date.month}-{self.date.year}'\n",
    "            os.makedirs(path_to_save, exist_ok = True)\n",
    "            if self.process:\n",
    "                dados = getattr(self, 'dados')\n",
    "                dados_storm = dados[columns_to_filter]\n",
    "                dados_storm['CODIGO TABELA'] = dados['CONVENIO'].map(self.load_json()['tables_code'])\n",
    "                dados_storm['#VALOR_BASE_BRUTO#'] = dados_storm['VALOR_BRUTO']\n",
    "                dados_storm[['NUMERO_ADE',\t\n",
    "                             'VALOR_BRUTO', \n",
    "                             'VLR_COMISSAO_REPASSE',\t\n",
    "                             'VLR_BONUS_REPASSE',\t\n",
    "                             'PRAZO',\n",
    "                             'CODIGO TABELA', \n",
    "                             'DATA_DIGIT_BANCO', \n",
    "                             '#VALOR_BASE_BRUTO#']]\n",
    "                dados_storm.columns = columns_to_rename\n",
    "                dados_storm['#ADE#'] = dados_storm['#ADE#'].map(lambda x: x.replace(\"'\", \"\"))\n",
    "                setattr(self, 'comissao', dados_storm)\n",
    "                dados_storm.to_csv(path_to_save + f\"/COMISSÃO CREFISA {self.date.day}-{self.date.month}-{self.date.year}_teste_fagner_NAO_USAR.csv\", sep = ';', index = False)\n",
    "\n",
    "\n",
    "\n",
    "    def zz(self):\n",
    "        path_zz = f'../zz_geral_Crefisa_novo.xlsx'\n",
    "        if self.process:\n",
    "            producao = getattr(self, 'dados')\n",
    "            comissao = getattr(self, 'comissao')\n",
    "            if os.path.exists(path_zz):\n",
    "                producao_zz = pd.read_excel(path_zz, sheet_name = 'Producao')\n",
    "                comissao_zz = pd.read_excel(path_zz, sheet_name = 'Comissao')\n",
    "                producao = pd.concat([producao, producao_zz])\n",
    "                comissao = pd.concat([comissao , comissao_zz])\n",
    "                producao.drop_duplicates(inplace= True)\n",
    "                comissao.drop_duplicates(inplace= True)\n",
    "            \n",
    "            writer = pd.ExcelWriter(path_zz, engine='xlsxwriter')\n",
    "            producao.to_excel(writer, sheet_name = 'Producao', index = False)\n",
    "            comissao.to_excel(writer, sheet_name = 'Comissao', index = False)\n",
    "            writer.close()"
   ]
  },
  {
   "cell_type": "code",
   "execution_count": 3,
   "metadata": {},
   "outputs": [],
   "source": [
    "date_work = datetime.date(2024, 3, 25)\n",
    "while date_work < datetime.date.today():\n",
    "    teste = work_tables(data = date_work)\n",
    "    date_work += datetime.timedelta(days=  1)"
   ]
  },
  {
   "cell_type": "code",
   "execution_count": 2,
   "metadata": {},
   "outputs": [],
   "source": []
  },
  {
   "cell_type": "code",
   "execution_count": 14,
   "metadata": {},
   "outputs": [
    {
     "name": "stdout",
     "output_type": "stream",
     "text": [
      "maçã\n"
     ]
    }
   ],
   "source": []
  },
  {
   "cell_type": "code",
   "execution_count": 8,
   "metadata": {},
   "outputs": [
    {
     "name": "stdout",
     "output_type": "stream",
     "text": [
      "2024-03-12\n"
     ]
    },
    {
     "ename": "UnboundLocalError",
     "evalue": "cannot access local variable 'dados_storm' where it is not associated with a value",
     "output_type": "error",
     "traceback": [
      "\u001b[1;31m---------------------------------------------------------------------------\u001b[0m",
      "\u001b[1;31mUnboundLocalError\u001b[0m                         Traceback (most recent call last)",
      "Cell \u001b[1;32mIn[8], line 4\u001b[0m\n\u001b[0;32m      2\u001b[0m \u001b[38;5;28;01mwhile\u001b[39;00m date_work \u001b[38;5;241m<\u001b[39m datetime\u001b[38;5;241m.\u001b[39mdate\u001b[38;5;241m.\u001b[39mtoday():\n\u001b[0;32m      3\u001b[0m     \u001b[38;5;28mprint\u001b[39m(date_work)\n\u001b[1;32m----> 4\u001b[0m     teste \u001b[38;5;241m=\u001b[39m \u001b[43mwork_tables\u001b[49m\u001b[43m(\u001b[49m\u001b[43mdata\u001b[49m\u001b[43m \u001b[49m\u001b[38;5;241;43m=\u001b[39;49m\u001b[43m \u001b[49m\u001b[43mdate_work\u001b[49m\u001b[43m)\u001b[49m\u001b[38;5;241m.\u001b[39mproduction_to_storm()\n\u001b[0;32m      5\u001b[0m     date_work \u001b[38;5;241m+\u001b[39m\u001b[38;5;241m=\u001b[39m datetime\u001b[38;5;241m.\u001b[39mtimedelta(days\u001b[38;5;241m=\u001b[39m  \u001b[38;5;241m1\u001b[39m)\n",
      "Cell \u001b[1;32mIn[7], line 8\u001b[0m, in \u001b[0;36mwork_tables.__init__\u001b[1;34m(self, data)\u001b[0m\n\u001b[0;32m      6\u001b[0m \u001b[38;5;28mself\u001b[39m\u001b[38;5;241m.\u001b[39mload_table()\n\u001b[0;32m      7\u001b[0m \u001b[38;5;28mself\u001b[39m\u001b[38;5;241m.\u001b[39mproduction_to_storm()\n\u001b[1;32m----> 8\u001b[0m \u001b[38;5;28;43mself\u001b[39;49m\u001b[38;5;241;43m.\u001b[39;49m\u001b[43mcomission_to_storm\u001b[49m\u001b[43m(\u001b[49m\u001b[43m)\u001b[49m\n",
      "Cell \u001b[1;32mIn[7], line 111\u001b[0m, in \u001b[0;36mwork_tables.comission_to_storm\u001b[1;34m(self)\u001b[0m\n\u001b[0;32m    106\u001b[0m     dados_storm[\u001b[38;5;124m'\u001b[39m\u001b[38;5;124m#ADE#\u001b[39m\u001b[38;5;124m'\u001b[39m] \u001b[38;5;241m=\u001b[39m dados_storm[\u001b[38;5;124m'\u001b[39m\u001b[38;5;124m#ADE#\u001b[39m\u001b[38;5;124m'\u001b[39m]\u001b[38;5;241m.\u001b[39mmap(\u001b[38;5;28;01mlambda\u001b[39;00m x: x\u001b[38;5;241m.\u001b[39mreplace(\u001b[38;5;124m\"\u001b[39m\u001b[38;5;124m'\u001b[39m\u001b[38;5;124m\"\u001b[39m, \u001b[38;5;124m\"\u001b[39m\u001b[38;5;124m\"\u001b[39m))\n\u001b[0;32m    109\u001b[0m \u001b[38;5;66;03m# return dados_storm\u001b[39;00m\n\u001b[1;32m--> 111\u001b[0m \u001b[43mdados_storm\u001b[49m\u001b[38;5;241m.\u001b[39mto_csv(path_to_save \u001b[38;5;241m+\u001b[39m \u001b[38;5;124mf\u001b[39m\u001b[38;5;124m\"\u001b[39m\u001b[38;5;124m/COMISSÃO CREFISA \u001b[39m\u001b[38;5;132;01m{\u001b[39;00m\u001b[38;5;28mself\u001b[39m\u001b[38;5;241m.\u001b[39mdate\u001b[38;5;241m.\u001b[39mday\u001b[38;5;132;01m}\u001b[39;00m\u001b[38;5;124m-\u001b[39m\u001b[38;5;132;01m{\u001b[39;00m\u001b[38;5;28mself\u001b[39m\u001b[38;5;241m.\u001b[39mdate\u001b[38;5;241m.\u001b[39mmonth\u001b[38;5;132;01m}\u001b[39;00m\u001b[38;5;124m-\u001b[39m\u001b[38;5;132;01m{\u001b[39;00m\u001b[38;5;28mself\u001b[39m\u001b[38;5;241m.\u001b[39mdate\u001b[38;5;241m.\u001b[39myear\u001b[38;5;132;01m}\u001b[39;00m\u001b[38;5;124m_teste_fagner_NAO_USAR.csv\u001b[39m\u001b[38;5;124m\"\u001b[39m, sep \u001b[38;5;241m=\u001b[39m \u001b[38;5;124m'\u001b[39m\u001b[38;5;124m;\u001b[39m\u001b[38;5;124m'\u001b[39m, index \u001b[38;5;241m=\u001b[39m \u001b[38;5;28;01mFalse\u001b[39;00m)\n",
      "\u001b[1;31mUnboundLocalError\u001b[0m: cannot access local variable 'dados_storm' where it is not associated with a value"
     ]
    }
   ],
   "source": [
    "date_work = datetime.date(2024, 3, 12)\n",
    "while date_work < datetime.date.today():\n",
    "    print(date_work)\n",
    "    teste = work_tables(data = date_work).production_to_storm()\n",
    "    date_work += datetime.timedelta(days=  1)"
   ]
  },
  {
   "cell_type": "code",
   "execution_count": 42,
   "metadata": {},
   "outputs": [],
   "source": [
    "teste"
   ]
  },
  {
   "cell_type": "code",
   "execution_count": null,
   "metadata": {},
   "outputs": [],
   "source": []
  }
 ],
 "metadata": {
  "kernelspec": {
   "display_name": "Python 3",
   "language": "python",
   "name": "python3"
  },
  "language_info": {
   "codemirror_mode": {
    "name": "ipython",
    "version": 3
   },
   "file_extension": ".py",
   "mimetype": "text/x-python",
   "name": "python",
   "nbconvert_exporter": "python",
   "pygments_lexer": "ipython3",
   "version": "3.11.4"
  }
 },
 "nbformat": 4,
 "nbformat_minor": 2
}
