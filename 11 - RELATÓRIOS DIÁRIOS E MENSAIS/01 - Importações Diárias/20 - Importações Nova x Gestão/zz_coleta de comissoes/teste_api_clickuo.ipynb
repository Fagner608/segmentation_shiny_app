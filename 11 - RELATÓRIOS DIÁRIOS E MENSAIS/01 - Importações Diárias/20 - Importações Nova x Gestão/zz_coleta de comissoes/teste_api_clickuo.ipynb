{
 "cells": [
  {
   "cell_type": "code",
   "execution_count": 2,
   "metadata": {},
   "outputs": [],
   "source": [
    "import requests\n",
    "from dotenv import dotenv_values"
   ]
  },
  {
   "cell_type": "code",
   "execution_count": 6,
   "metadata": {},
   "outputs": [],
   "source": [
    "params = dotenv_values('data/.env')"
   ]
  },
  {
   "cell_type": "code",
   "execution_count": 7,
   "metadata": {},
   "outputs": [
    {
     "data": {
      "text/plain": [
       "'900702093577'"
      ]
     },
     "execution_count": 7,
     "metadata": {},
     "output_type": "execute_result"
    }
   ],
   "source": [
    "params['CLICKUP_LIST_ID']"
   ]
  },
  {
   "cell_type": "code",
   "execution_count": null,
   "metadata": {},
   "outputs": [],
   "source": [
    "list_id = \"900702093577\"\n",
    "url = \"https://api.clickup.com/api/v2/list/\" + list_id + \"/task\""
   ]
  },
  {
   "cell_type": "code",
   "execution_count": null,
   "metadata": {},
   "outputs": [],
   "source": [
    "\n",
    "query = {\n",
    "  \"custom_task_ids\": \"true\",\n",
    "  \"team_id\": \"123\"\n",
    "}\n"
   ]
  },
  {
   "cell_type": "code",
   "execution_count": null,
   "metadata": {},
   "outputs": [],
   "source": [
    "\n",
    "\n",
    "payload = {\n",
    "  \"name\": \"New Task Name\",\n",
    "  \"description\": \"New Task Description\",\n",
    "  \"markdown_description\": \"New Task Description\",\n",
    "  \"assignees\": [\n",
    "    183\n",
    "  ],\n",
    "  \"tags\": [\n",
    "    \"tag name 1\"\n",
    "  ],\n",
    "  \"status\": \"Open\",\n",
    "  \"priority\": 3,\n",
    "  \"due_date\": 1508369194377,\n",
    "  \"due_date_time\": False,\n",
    "  \"time_estimate\": 8640000,\n",
    "  \"start_date\": 1567780450202,\n",
    "  \"start_date_time\": False,\n",
    "  \"notify_all\": True,\n",
    "  \"parent\": None,\n",
    "  \"links_to\": None,\n",
    "  \"check_required_custom_fields\": True,\n",
    "  \"custom_fields\": [\n",
    "    {\n",
    "      \"id\": \"0a52c486-5f05-403b-b4fd-c512ff05131c\",\n",
    "      \"value\": \"This is a string of text added to a Custom Field.\"\n",
    "    }\n",
    "  ]\n",
    "}\n"
   ]
  },
  {
   "cell_type": "code",
   "execution_count": null,
   "metadata": {},
   "outputs": [],
   "source": [
    "\n",
    "headers = {\n",
    "  \"Content-Type\": \"application/json\",\n",
    "  \"Authorization\": \"YOUR_API_KEY_HERE\"\n",
    "}"
   ]
  },
  {
   "cell_type": "code",
   "execution_count": null,
   "metadata": {},
   "outputs": [],
   "source": [
    "\n",
    "\n",
    "response = requests.post(url, json=payload, headers=headers, params=query)\n",
    "\n",
    "data = response.json()\n",
    "print(data)"
   ]
  }
 ],
 "metadata": {
  "kernelspec": {
   "display_name": "base",
   "language": "python",
   "name": "python3"
  },
  "language_info": {
   "codemirror_mode": {
    "name": "ipython",
    "version": 3
   },
   "file_extension": ".py",
   "mimetype": "text/x-python",
   "name": "python",
   "nbconvert_exporter": "python",
   "pygments_lexer": "ipython3",
   "version": "3.11.4"
  }
 },
 "nbformat": 4,
 "nbformat_minor": 2
}
