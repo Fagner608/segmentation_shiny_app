{
 "cells": [
  {
   "cell_type": "code",
   "execution_count": 49,
   "metadata": {},
   "outputs": [],
   "source": [
    "import os\n",
    "from tqdm import tqdm\n",
    "from time import sleep\n",
    "import datetime\n",
    "import sys"
   ]
  },
  {
   "cell_type": "code",
   "execution_count": 55,
   "metadata": {},
   "outputs": [],
   "source": [
    "def search_payment(datework: datetime.date):\n",
    "\n",
    "    path = f\"./comissoes_nao_pagas/{datework.year}/{datework.month}/\"\n",
    "    \n",
    "    paths = tqdm(os.listdir(path))\n",
    "    for char in paths:\n",
    "        sleep(0.25)\n",
    "        paths.set_description(\"Processing dia %s/%s \" % (char, datework.month))\n",
    "        \n",
    "        if len(os.listdir(path + char)) > 0: \n",
    "            print(\"Pagamentos em atraso encontrados no diretório: %s \" % path + char)\n",
    "            print(\"Caso já tenha encontrado os pagamentos, insira o contrato e a data no ZZ - Mercantil da Nova, e reinicie este processo.\")\n",
    "            break"
   ]
  },
  {
   "cell_type": "code",
   "execution_count": 56,
   "metadata": {},
   "outputs": [
    {
     "name": "stderr",
     "output_type": "stream",
     "text": [
      "Processing dia 18/4 :  80%|████████  | 4/5 [00:01<00:00,  3.11it/s]"
     ]
    },
    {
     "name": "stdout",
     "output_type": "stream",
     "text": [
      "Pagamentos em atraso encontrados no diretório: ./comissoes_nao_pagas/2024/4/ 18\n",
      "Caso já tenha encontrado os pagamentos, insira o contrato e a data no ZZ - Mercantil da Nova, e reinicie este processo.\n"
     ]
    },
    {
     "name": "stderr",
     "output_type": "stream",
     "text": [
      "\n"
     ]
    }
   ],
   "source": [
    "search_payment(datetime.date(2024, 4, 4))"
   ]
  },
  {
   "cell_type": "code",
   "execution_count": 4,
   "metadata": {},
   "outputs": [
    {
     "name": "stderr",
     "output_type": "stream",
     "text": [
      "Processing d: 100%|██████████| 4/4 [00:01<00:00,  3.97it/s]\n"
     ]
    }
   ],
   "source": [
    "pbar = tqdm([\"a\", \"b\", \"c\", \"d\"])\n",
    "for char in pbar:\n",
    "    sleep(0.25)\n",
    "    pbar.set_description(\"Processing %s\" % char)"
   ]
  }
 ],
 "metadata": {
  "kernelspec": {
   "display_name": "Python 3",
   "language": "python",
   "name": "python3"
  },
  "language_info": {
   "codemirror_mode": {
    "name": "ipython",
    "version": 3
   },
   "file_extension": ".py",
   "mimetype": "text/x-python",
   "name": "python",
   "nbconvert_exporter": "python",
   "pygments_lexer": "ipython3",
   "version": "3.11.4"
  }
 },
 "nbformat": 4,
 "nbformat_minor": 2
}
